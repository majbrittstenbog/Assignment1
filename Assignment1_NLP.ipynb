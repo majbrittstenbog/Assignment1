{
  "nbformat": 4,
  "nbformat_minor": 0,
  "metadata": {
    "colab": {
      "provenance": [],
      "authorship_tag": "ABX9TyP9IxMOnEdetotl3fNU51+T",
      "include_colab_link": true
    },
    "kernelspec": {
      "name": "python3",
      "display_name": "Python 3"
    },
    "language_info": {
      "name": "python"
    }
  },
  "cells": [
    {
      "cell_type": "markdown",
      "metadata": {
        "id": "view-in-github",
        "colab_type": "text"
      },
      "source": [
        "<a href=\"https://colab.research.google.com/github/majbrittstenbog/Assignment1/blob/main/Assignment1_NLP.ipynb\" target=\"_parent\"><img src=\"https://colab.research.google.com/assets/colab-badge.svg\" alt=\"Open In Colab\"/></a>"
      ]
    },
    {
      "cell_type": "markdown",
      "source": [
        "# Natural language processing of newspaper articles on the first day of UNESCO's 16 days of activism\n",
        "### Examining the sentiment of newspaper articles that mentions \"16 days of activism\" on gender-based violence."
      ],
      "metadata": {
        "id": "_diSDchXcrtS"
      }
    },
    {
      "cell_type": "markdown",
      "source": [
        "\n",
        "*By Majbritt Lindholt Stenbøg*\n",
        "\n",
        "---\n",
        "\n"
      ],
      "metadata": {
        "id": "Y99fakUUWzT4"
      }
    },
    {
      "cell_type": "markdown",
      "source": [
        "introduction to the project.\n",
        "rationale.\n"
      ],
      "metadata": {
        "id": "-etwXnpZc_cQ"
      }
    },
    {
      "cell_type": "code",
      "execution_count": null,
      "metadata": {
        "id": "50Uj6Xqscqam"
      },
      "outputs": [],
      "source": [
        "import pandas as pd"
      ]
    },
    {
      "cell_type": "markdown",
      "source": [
        "First I am going to upload the dataset used for this assignment."
      ],
      "metadata": {
        "id": "ppgZbhVMdT3J"
      }
    },
    {
      "cell_type": "code",
      "source": [
        "#!pip install gdown\n",
        "!gdown https://drive.google.com/uc?id=1HvfUSvri4I4AXJLb_kAn21-x4i_2BMAb"
      ],
      "metadata": {
        "id": "yOI2PAz5dUfq"
      },
      "execution_count": null,
      "outputs": []
    },
    {
      "cell_type": "markdown",
      "source": [
        "Here I specify which dataset Python should find, in this case 2023_news in the file type xlsx, so I specify the name from what it is called in\n",
        "google drive. Now df is the name of my data in python. So later in the analysis, when I refer to df, it is 2023_news. I use df.head() to see the top of the dataset, so I can see how it looks."
      ],
      "metadata": {
        "id": "PUV_cdn5dfEr"
      }
    },
    {
      "cell_type": "code",
      "source": [
        "fp = \"2023_news.xlsx\"\n",
        "df = pd.read_excel(fp, header=None)\n",
        "\n",
        "# Specifying the name of the headers for the two columns in my dataset.\n",
        "df.columns = ['ID','text']\n",
        "df.head()"
      ],
      "metadata": {
        "id": "7MrPL386dfek"
      },
      "execution_count": null,
      "outputs": []
    },
    {
      "cell_type": "markdown",
      "source": [
        "I can see in the following, that there are a 100 rows and 2 columns. This means that I have 100 newspaper titles."
      ],
      "metadata": {
        "id": "oAr0_soqeRW1"
      }
    },
    {
      "cell_type": "code",
      "source": [
        "df.shape"
      ],
      "metadata": {
        "id": "IrhDncXNeRw0"
      },
      "execution_count": null,
      "outputs": []
    }
  ]
}